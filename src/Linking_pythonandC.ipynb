{
 "cells": [
  {
   "cell_type": "code",
   "execution_count": 1,
   "metadata": {
    "collapsed": true
   },
   "outputs": [],
   "source": [
    "import ctypes as C\n",
    "math = C.CDLL('./libmathmine.so')"
   ]
  },
  {
   "cell_type": "code",
   "execution_count": null,
   "metadata": {
    "collapsed": true
   },
   "outputs": [],
   "source": [
    "# Llama a la función add_int"
   ]
  },
  {
   "cell_type": "code",
   "execution_count": 8,
   "metadata": {},
   "outputs": [
    {
     "data": {
      "text/plain": [
       "6"
      ]
     },
     "execution_count": 8,
     "metadata": {},
     "output_type": "execute_result"
    }
   ],
   "source": [
    "# Llamo a la función de c add_int\n",
    "math.add_int(2,4)\n",
    "# Me devuelve el resultado ya que tiene el return inluido"
   ]
  },
  {
   "cell_type": "code",
   "execution_count": null,
   "metadata": {
    "collapsed": true
   },
   "outputs": [],
   "source": [
    "# Llama a la función float_int"
   ]
  },
  {
   "cell_type": "code",
   "execution_count": 6,
   "metadata": {},
   "outputs": [
    {
     "data": {
      "text/plain": [
       "6.0"
      ]
     },
     "execution_count": 6,
     "metadata": {},
     "output_type": "execute_result"
    }
   ],
   "source": [
    "# Defino que los argumentos de entrada sean tipo float de C y luego que el resultado tambien lo sea\n",
    "math.add_float.argtypes = [C.c_float,C.c_float] # Notar que tengo que anteponer el C. antes de c_float\n",
    "math.add_float.restype = C.c_float       # ya que se trata de ctypes y lo tengo que aclarar explicitamente \n",
    "#Ahora puedo llamar a la librería desde Python de manera normal sin saber que está ejecutando código en C\n",
    "math.add_float(2,4)"
   ]
  },
  {
   "cell_type": "code",
   "execution_count": 10,
   "metadata": {},
   "outputs": [
    {
     "data": {
      "text/plain": [
       "'\\n\\nLlama a la función que suma enteros por referencia es decir, pasando como argumento la posición de memoria \\ndonde se encuentran los valores de cada variable\\n\\n'"
      ]
     },
     "execution_count": 10,
     "metadata": {},
     "output_type": "execute_result"
    }
   ],
   "source": [
    "'''\n",
    "\n",
    "Llama a la función que suma enteros por referencia es decir, pasando como argumento la posición de memoria \n",
    "donde se encuentran los valores de cada variable\n",
    "\n",
    "''' "
   ]
  },
  {
   "cell_type": "code",
   "execution_count": 9,
   "metadata": {},
   "outputs": [
    {
     "data": {
      "text/plain": [
       "'\\nEscribimos un wrapper, es decir una función externa, transparente a Python (escrita en Python), \\nque a su vez contendrá a otra función, es decir la librería en C. Este tipo de funciones wrappers\\npermite acomodar todo el entorno de variables de forma amena y organizada y permite que el usuario\\nllame a una función de Pÿthon (el wrapper) como una caja negra, es decir, no hace falta que el usuario\\nsepa que ocurre dentro del wrapper. De esta manera el usuario llamará a una función que suma dos enteros \\no floats sin saber que esa función wrapper llamará a una función escrita en C a través de una librería que es\\nllamada desde Python\\n'"
      ]
     },
     "execution_count": 9,
     "metadata": {},
     "output_type": "execute_result"
    }
   ],
   "source": [
    "'''\n",
    "Escribimos un wrapper, es decir una función externa, transparente a Python (escrita en Python), \n",
    "que a su vez contendrá a otra función, es decir la librería en C. Este tipo de funciones wrappers\n",
    "permite acomodar todo el entorno de variables de forma amena y organizada y permite que el usuario\n",
    "llame a una función de Pÿthon (el wrapper) como una caja negra, es decir, no hace falta que el usuario\n",
    "sepa que ocurre dentro del wrapper. De esta manera el usuario llamará a una función que suma dos enteros \n",
    "o floats sin saber que esa función wrapper llamará a una función escrita en C a través de una librería que es\n",
    "llamada desde Python\n",
    "'''"
   ]
  },
  {
   "cell_type": "code",
   "execution_count": null,
   "metadata": {
    "collapsed": true
   },
   "outputs": [],
   "source": [
    "#Para sumar enteros"
   ]
  },
  {
   "cell_type": "code",
   "execution_count": 10,
   "metadata": {
    "collapsed": true
   },
   "outputs": [],
   "source": [
    "def add_int_ref_python(a,b):\n",
    "    import ctypes as C  # Poner este import acá me permite generar un código externo con esta función e importarlo \n",
    "    math = C.CDLL('./libmathmine.so') #desde distintos programas que lo necesiten como una librería y que el \n",
    "    a_c = C.c_int(a)                  #usuario llame a esa librería sin saber que tiene adentro. Funcionaría como \n",
    "    b_c = C.c_int(b)                  #una caja negra.\n",
    "    res_c = C.c_int()\n",
    "    math.add_int_ref(C.byref(a_c),C.byref(b_c),C.byref(res_c))\n",
    "    return res_c.value"
   ]
  },
  {
   "cell_type": "code",
   "execution_count": 11,
   "metadata": {},
   "outputs": [
    {
     "data": {
      "text/plain": [
       "6"
      ]
     },
     "execution_count": 11,
     "metadata": {},
     "output_type": "execute_result"
    }
   ],
   "source": [
    "add_int_ref_python(2,4)"
   ]
  },
  {
   "cell_type": "code",
   "execution_count": null,
   "metadata": {
    "collapsed": true
   },
   "outputs": [],
   "source": [
    "#Para sumar floats"
   ]
  },
  {
   "cell_type": "code",
   "execution_count": 6,
   "metadata": {
    "collapsed": true
   },
   "outputs": [],
   "source": [
    "def add_float_ref_python(a,b):\n",
    "    import ctypes as C  # Poner este import acá me permite generar un código externo con esta función e importarlo \n",
    "    math = C.CDLL('./libmathmine.so') #desde distintos programas que lo necesiten como una librería y que el \n",
    "    a_c = C.c_float(a)                  #usuario llame a esa librería sin saber que tiene adentro. Funcionaría como \n",
    "    b_c = C.c_float(b)                  #una caja negra.\n",
    "    res_c = C.c_float()\n",
    "    math.add_float_ref(C.byref(a_c),C.byref(b_c),C.byref(res_c))\n",
    "    return res_c.value"
   ]
  },
  {
   "cell_type": "code",
   "execution_count": 8,
   "metadata": {},
   "outputs": [
    {
     "data": {
      "text/plain": [
       "6.199999809265137"
      ]
     },
     "execution_count": 8,
     "metadata": {},
     "output_type": "execute_result"
    }
   ],
   "source": [
    "add_float_ref_python(2.1,4.1)"
   ]
  },
  {
   "cell_type": "code",
   "execution_count": 12,
   "metadata": {},
   "outputs": [
    {
     "data": {
      "text/plain": [
       "'Ahora voy a hacer las mismas dos cuentas anteriores (suna int/float by ref) pero definiendo los wrappers\\ncomo librerías, poniéndolas en otro código e importándolas desde acá'"
      ]
     },
     "execution_count": 12,
     "metadata": {},
     "output_type": "execute_result"
    }
   ],
   "source": [
    "'''Ahora voy a hacer las mismas dos cuentas anteriores (suna int/float by ref) pero definiendo los wrappers\n",
    "como librerías, poniéndolas en otro código e importándolas desde acá'''"
   ]
  },
  {
   "cell_type": "code",
   "execution_count": 39,
   "metadata": {},
   "outputs": [
    {
     "data": {
      "text/plain": [
       "64"
      ]
     },
     "execution_count": 39,
     "metadata": {},
     "output_type": "execute_result"
    }
   ],
   "source": [
    "'''\n",
    "Con esta sentencia puedo importar desde el código add_int_ref_python.py el módulo que desee (en este caso\n",
    "tengo solo 1) y con el \"as\" le redefino el nombre dentro del programa que lo invoca \n",
    "'''\n",
    "from add_int_ref_python import add_int_ref_python as sumaent  \n",
    "sumaent(22,42)"
   ]
  },
  {
   "cell_type": "code",
   "execution_count": 33,
   "metadata": {},
   "outputs": [
    {
     "data": {
      "text/plain": [
       "6.199999809265137"
      ]
     },
     "execution_count": 33,
     "metadata": {},
     "output_type": "execute_result"
    }
   ],
   "source": [
    "'''\n",
    "Con esta sentencia puedo importar desde el código add_ref_ref_python.py el módulo que desee (en este caso\n",
    "tengo solo 1) y con el \"as\" le redefino el nombre dentro del programa que lo invoca \n",
    "'''\n",
    "from add_float_ref_python import* # El mismo código de recióen está guardado en add_float_ref_python.py\n",
    "add_float_ref_python(2.1,4.1)"
   ]
  },
  {
   "cell_type": "code",
   "execution_count": 34,
   "metadata": {},
   "outputs": [
    {
     "data": {
      "text/plain": [
       "'\\nDe esta manera puedo tener solo un código escrito por fuera de este programa que tenga ambos módulos e importar\\nuno u otro del mismo código según lo que quiera. A continuación va eso. Desde el código externo add_numbers.py \\nimporto el módulo para sumar floats o ints\\n'"
      ]
     },
     "execution_count": 34,
     "metadata": {},
     "output_type": "execute_result"
    }
   ],
   "source": [
    "'''\n",
    "De esta manera puedo tener solo un código escrito por fuera de este programa que tenga ambos módulos e importar\n",
    "uno u otro del mismo código según lo que quiera. A continuación va eso. Desde el código externo add_numbers.py \n",
    "importo el módulo para sumar floats o ints\n",
    "'''"
   ]
  },
  {
   "cell_type": "code",
   "execution_count": 3,
   "metadata": {},
   "outputs": [],
   "source": [
    "from add_numbers import add_int_ref_python as sumaent  "
   ]
  },
  {
   "cell_type": "code",
   "execution_count": 4,
   "metadata": {},
   "outputs": [
    {
     "data": {
      "text/plain": [
       "8"
      ]
     },
     "execution_count": 4,
     "metadata": {},
     "output_type": "execute_result"
    }
   ],
   "source": [
    "sumaent(4,4)"
   ]
  },
  {
   "cell_type": "code",
   "execution_count": 5,
   "metadata": {
    "collapsed": true
   },
   "outputs": [],
   "source": [
    "from add_numbers import add_float_ref_python as sumafloat  "
   ]
  },
  {
   "cell_type": "code",
   "execution_count": 7,
   "metadata": {},
   "outputs": [
    {
     "data": {
      "text/plain": [
       "65.0"
      ]
     },
     "execution_count": 7,
     "metadata": {},
     "output_type": "execute_result"
    }
   ],
   "source": [
    "sumafloat(34.,31.) #Acá no se por qué no anda"
   ]
  },
  {
   "cell_type": "code",
   "execution_count": null,
   "metadata": {
    "collapsed": true
   },
   "outputs": [],
   "source": [
    "#Arrays"
   ]
  },
  {
   "cell_type": "code",
   "execution_count": 2,
   "metadata": {
    "collapsed": true
   },
   "outputs": [],
   "source": [
    "a_list = [1,2,3,4]\n",
    "b_list = [4,3,2,1]"
   ]
  },
  {
   "cell_type": "code",
   "execution_count": 3,
   "metadata": {},
   "outputs": [
    {
     "data": {
      "text/plain": [
       "'\\nEl (*a/b_list) es una sintaxis acotada para acceder alos elementos de una lista. El Ctypes (C.c_int * n_b) \\n\"pide acceder a los elementos de la lista para asignar y alocatear in1 como un array de 4 elementos. La manera\\n\"no eficiente\" de hacer esto sería:\\n\\nin1 = (C.c_int * 4) [1,2,3,4] \\nin2 = (C.c_int * 4) [4,3,2,1]\\n\\nEsto es poco eficiente porque si quiero definir un wrapper como en el caso anterior, al hacerlo de forma eficiente\\nyo paso una lista a cualquiera y el wrapper ser encargará de interpretarla y allocatearla\\n'"
      ]
     },
     "execution_count": 3,
     "metadata": {},
     "output_type": "execute_result"
    }
   ],
   "source": [
    "n = len(a_list)\n",
    "in1 = (C.c_int * n) (*a_list) \n",
    "in2 = (C.c_int * n) (*b_list)\n",
    "'''\n",
    "El (*a/b_list) es una sintaxis acotada para acceder alos elementos de una lista. El Ctypes (C.c_int * n_b) \n",
    "\"pide acceder a los elementos de la lista para asignar y alocatear in1 como un array de 4 elementos. La manera\n",
    "\"no eficiente\" de hacer esto sería:\n",
    "\n",
    "in1 = (C.c_int * 4) [1,2,3,4] \n",
    "in2 = (C.c_int * 4) [4,3,2,1]\n",
    "\n",
    "Esto es poco eficiente porque si quiero definir un wrapper como en el caso anterior, al hacerlo de forma eficiente\n",
    "yo paso una lista a cualquiera y el wrapper ser encargará de interpretarla y allocatearla\n",
    "'''"
   ]
  },
  {
   "cell_type": "code",
   "execution_count": 4,
   "metadata": {},
   "outputs": [],
   "source": [
    "out_list = []\n",
    "out = (C.c_int * n) (*out_list)"
   ]
  },
  {
   "cell_type": "code",
   "execution_count": 6,
   "metadata": {},
   "outputs": [
    {
     "name": "stdout",
     "output_type": "stream",
     "text": [
      "5 5 5 5\n"
     ]
    }
   ],
   "source": [
    "#math.add_float.argtypes = [C.c_float,C.c_float]\n",
    "math.add_int_array(C.byref(in1),C.byref(in2),C.byref(out),C.c_int(n))\n",
    "print(*out) #out está definido como posición de memoria y así lo devuelve la fucion de C, entonces con el *\n",
    "            #lo desreferencio"
   ]
  },
  {
   "cell_type": "code",
   "execution_count": 7,
   "metadata": {
    "collapsed": true
   },
   "outputs": [],
   "source": [
    "# Ahora hago lo mismo pero definiendo un wrapper"
   ]
  },
  {
   "cell_type": "code",
   "execution_count": 8,
   "metadata": {},
   "outputs": [],
   "source": [
    "def add_int_array_python(a_list,b_list):\n",
    "    n = len(a_list)\n",
    "    in1 = (C.c_int * n) (*a_list) \n",
    "    in2 = (C.c_int * n) (*b_list)\n",
    "#    if n_a > n_b:\n",
    "#        n_out = n_a #Esto esta puesto al pedo porque no tiene sentido de acuerdo a la def de adicion de vec\n",
    "#    else:           #Podria usar directamente o n_a o n_b\n",
    "#        n_out = n_b\n",
    "    out_list = []\n",
    "    out = (C.c_int * n) (*out_list)\n",
    "    math.add_int_array(C.byref(in1),C.byref(in2),C.byref(out),C.c_int(n))\n",
    "    return out[:] # Asi tengo que pedirle para que me devuelva la lista como resultado y no el puntero"
   ]
  },
  {
   "cell_type": "code",
   "execution_count": 9,
   "metadata": {},
   "outputs": [],
   "source": [
    "a = [1,2,3,4]\n",
    "b = [1,2,3,4]\n",
    "result_add = add_int_array_python(a,b)"
   ]
  },
  {
   "cell_type": "code",
   "execution_count": 10,
   "metadata": {},
   "outputs": [
    {
     "name": "stdout",
     "output_type": "stream",
     "text": [
      "[2, 4, 6, 8]\n"
     ]
    }
   ],
   "source": [
    "print(result_add)"
   ]
  },
  {
   "cell_type": "code",
   "execution_count": 11,
   "metadata": {},
   "outputs": [],
   "source": [
    "# Dot Product"
   ]
  },
  {
   "cell_type": "code",
   "execution_count": 12,
   "metadata": {
    "collapsed": true
   },
   "outputs": [],
   "source": [
    "def dot_product_python(a_list,b_list):\n",
    "    n = len(a_list)\n",
    "    in1 = (C.c_float * n) (*a_list) \n",
    "    in2 = (C.c_float * n) (*b_list)\n",
    "    math.dot_product.restype = C.c_float\n",
    "    res_dot_prod = math.dot_product(in1,in2,n)\n",
    "    return res_dot_prod"
   ]
  },
  {
   "cell_type": "code",
   "execution_count": 13,
   "metadata": {},
   "outputs": [],
   "source": [
    "result_dot_prod = dot_product_python(a,b)"
   ]
  },
  {
   "cell_type": "code",
   "execution_count": 14,
   "metadata": {},
   "outputs": [
    {
     "name": "stdout",
     "output_type": "stream",
     "text": [
      "30.0\n"
     ]
    }
   ],
   "source": [
    "print(result_dot_prod)"
   ]
  },
  {
   "cell_type": "code",
   "execution_count": 15,
   "metadata": {
    "collapsed": true
   },
   "outputs": [],
   "source": [
    "# Ahora defino un código externo que se llama arrays_math.py y llamo a los modulos para hacer las cuentas"
   ]
  },
  {
   "cell_type": "code",
   "execution_count": 16,
   "metadata": {},
   "outputs": [],
   "source": [
    "from array_math import add_int_array_python as suma_arrays\n",
    "from array_math import dot_product_python as dot_prod"
   ]
  },
  {
   "cell_type": "code",
   "execution_count": 17,
   "metadata": {},
   "outputs": [],
   "source": [
    "a_new = [10,10,10]\n",
    "b_new = [1,1,1]\n",
    "result_suma_arrays = suma_arrays(a_new,b_new)"
   ]
  },
  {
   "cell_type": "code",
   "execution_count": 18,
   "metadata": {},
   "outputs": [
    {
     "name": "stdout",
     "output_type": "stream",
     "text": [
      "[11, 11, 11]\n"
     ]
    }
   ],
   "source": [
    "print(result_suma_arrays)"
   ]
  },
  {
   "cell_type": "code",
   "execution_count": 19,
   "metadata": {},
   "outputs": [
    {
     "name": "stdout",
     "output_type": "stream",
     "text": [
      "30.0\n"
     ]
    }
   ],
   "source": [
    "result_dot_product = dot_prod(a_new,b_new)\n",
    "print(result_dot_product)"
   ]
  },
  {
   "cell_type": "code",
   "execution_count": null,
   "metadata": {
    "collapsed": true
   },
   "outputs": [],
   "source": []
  }
 ],
 "metadata": {
  "kernelspec": {
   "display_name": "Python 3",
   "language": "python",
   "name": "python3"
  },
  "language_info": {
   "codemirror_mode": {
    "name": "ipython",
    "version": 3
   },
   "file_extension": ".py",
   "mimetype": "text/x-python",
   "name": "python",
   "nbconvert_exporter": "python",
   "pygments_lexer": "ipython3",
   "version": "3.6.1"
  }
 },
 "nbformat": 4,
 "nbformat_minor": 2
}
